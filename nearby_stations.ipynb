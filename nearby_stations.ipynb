{
 "cells": [
  {
   "cell_type": "code",
   "execution_count": 1,
   "metadata": {},
   "outputs": [],
   "source": [
    "import numpy as np\n",
    "import pandas as pd\n",
    "import descartes\n",
    "# import geopandas as gpd\n",
    "# from shapely.geometry import Point, Polygon"
   ]
  },
  {
   "cell_type": "code",
   "execution_count": 2,
   "metadata": {},
   "outputs": [
    {
     "data": {
      "text/plain": [
       "(524065, 15)"
      ]
     },
     "execution_count": 2,
     "metadata": {},
     "output_type": "execute_result"
    }
   ],
   "source": [
    "df = pd.read_csv('ghcnd_hcn/pair_final.csv')\n",
    "df.shape"
   ]
  },
  {
   "cell_type": "code",
   "execution_count": 3,
   "metadata": {},
   "outputs": [],
   "source": [
    "distance_arr = []\n",
    "test_df = df.query(\"STATION == 'USC00057936'\")\n",
    "test_location = np.array([test_df[element].values[0] for element in ['LON', 'LAT', 'ELEV']])\n",
    "\n",
    "k = 3\n",
    "\n",
    "for station_id, station_name in enumerate(df['STATION'].unique()):\n",
    "    nearby_df = df.query(\"STATION == '{}'\".format(station_name))\n",
    "    nearby_location = np.array([nearby_df[element].values[0] for element in ['LON', 'LAT', 'ELEV']])\n",
    "    nearby_distance = np.linalg.norm(test_location - nearby_location)\n",
    "    \n",
    "    distance_arr.append(nearby_distance)\n",
    "\n",
    "k_nearest_stations = df['STATION'].unique()[np.argpartition(distance_arr, k)[:k]]"
   ]
  },
  {
   "cell_type": "code",
   "execution_count": 4,
   "metadata": {},
   "outputs": [],
   "source": [
    "nearby_stations_df = df.query(\"STATION in @k_nearest_stations\")"
   ]
  },
  {
   "cell_type": "code",
   "execution_count": 5,
   "metadata": {},
   "outputs": [
    {
     "name": "stdout",
     "output_type": "stream",
     "text": [
      "USC00057936\n",
      "USC00051528\n",
      "USC00023596\n"
     ]
    }
   ],
   "source": [
    "df_train = []\n",
    "df_test = []\n",
    "for station in k_nearest_stations:\n",
    "    print(station)\n",
    "    if station != \"USC00057936\":\n",
    "        df_temp = df.query(\"STATION == '{}'\".format(station))\n",
    "        df_temp = df_temp.set_index(['DATE'])\n",
    "        df_train.append(df_temp)\n",
    "    else:\n",
    "        df_test = df.query(\"STATION == '{}'\".format(station))\n",
    "        df_test = df_test.set_index(['DATE'])"
   ]
  },
  {
   "cell_type": "code",
   "execution_count": 6,
   "metadata": {},
   "outputs": [],
   "source": [
    "Y = pd.DataFrame(df_test['PRCP2'])\n",
    "Y.columns = ['Precipitation']"
   ]
  },
  {
   "cell_type": "code",
   "execution_count": 7,
   "metadata": {},
   "outputs": [],
   "source": [
    "df_train[1].columns = ['2STATION', '2LAT', '2LON', '2ELEV', '2PRCP1', '2TMAX1', '2TMIN1', '2SNOW1',\n",
    "       '2SNOWD1', '2PRCP2', 'TMAX2', 'TMIN2', 'SNOW2', 'SNOWD2']\n",
    "df_train.append(Y)\n",
    "nearby_final = pd.concat(df_train, axis=1,join='inner', sort=False)"
   ]
  },
  {
   "cell_type": "code",
   "execution_count": 14,
   "metadata": {},
   "outputs": [],
   "source": [
    "nearby_final = nearby_final.reset_index()\n",
    "nearby_final = nearby_final.select_dtypes(exclude=['object'])"
   ]
  },
  {
   "cell_type": "code",
   "execution_count": 17,
   "metadata": {},
   "outputs": [],
   "source": []
  },
  {
   "cell_type": "code",
   "execution_count": null,
   "metadata": {},
   "outputs": [],
   "source": []
  }
 ],
 "metadata": {
  "kernelspec": {
   "display_name": "Python 3",
   "language": "python",
   "name": "python3"
  },
  "language_info": {
   "codemirror_mode": {
    "name": "ipython",
    "version": 3
   },
   "file_extension": ".py",
   "mimetype": "text/x-python",
   "name": "python",
   "nbconvert_exporter": "python",
   "pygments_lexer": "ipython3",
   "version": "3.6.8"
  }
 },
 "nbformat": 4,
 "nbformat_minor": 2
}
