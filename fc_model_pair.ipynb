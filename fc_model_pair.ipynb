{
 "cells": [
  {
   "cell_type": "code",
   "execution_count": 1,
   "metadata": {},
   "outputs": [],
   "source": [
    "import matplotlib.pyplot as plt\n",
    "import numpy as np\n",
    "import pandas as pd\n",
    "import seaborn as sns\n",
    "import tensorflow as tf\n",
    "from tensorflow import keras\n",
    "from tensorflow.keras import layers\n",
    "import tensorflow_docs as tfdocs\n",
    "import tensorflow_docs.plots\n",
    "import tensorflow_docs.modeling\n",
    "from utils import *"
   ]
  },
  {
   "cell_type": "code",
   "execution_count": 26,
   "metadata": {},
   "outputs": [
    {
     "name": "stderr",
     "output_type": "stream",
     "text": [
      "/homes/aqngo/project-aqngo-ellin/utils.py:31: SettingWithCopyWarning: \n",
      "A value is trying to be set on a copy of a slice from a DataFrame.\n",
      "Try using .loc[row_indexer,col_indexer] = value instead\n",
      "\n",
      "See the caveats in the documentation: http://pandas.pydata.org/pandas-docs/stable/user_guide/indexing.html#returning-a-view-versus-a-copy\n",
      "  df[category] = pd.qcut(df[category], q=45, duplicates='drop').astype('category')\n",
      "/homes/aqngo/project-aqngo-ellin/utils.py:33: SettingWithCopyWarning: \n",
      "A value is trying to be set on a copy of a slice from a DataFrame.\n",
      "Try using .loc[row_indexer,col_indexer] = value instead\n",
      "\n",
      "See the caveats in the documentation: http://pandas.pydata.org/pandas-docs/stable/user_guide/indexing.html#returning-a-view-versus-a-copy\n",
      "  df[category] = df[category].cat.codes\n"
     ]
    },
    {
     "data": {
      "text/plain": [
       "18"
      ]
     },
     "execution_count": 26,
     "metadata": {},
     "output_type": "execute_result"
    }
   ],
   "source": [
    "df = pd.read_csv(\"ghcnd_hcn/pair_final.csv\")\n",
    "df = df.sample(frac=1).reset_index(drop=True)\n",
    "category = 'PRCP2'\n",
    "X_train, X_test, y_train, y_test, map_dict = one_station_split(\n",
    "            df, 'USC00057936', category)\n",
    "len(map_dict)"
   ]
  },
  {
   "cell_type": "code",
   "execution_count": 27,
   "metadata": {},
   "outputs": [
    {
     "data": {
      "text/html": [
       "<div>\n",
       "<style scoped>\n",
       "    .dataframe tbody tr th:only-of-type {\n",
       "        vertical-align: middle;\n",
       "    }\n",
       "\n",
       "    .dataframe tbody tr th {\n",
       "        vertical-align: top;\n",
       "    }\n",
       "\n",
       "    .dataframe thead th {\n",
       "        text-align: right;\n",
       "    }\n",
       "</style>\n",
       "<table border=\"1\" class=\"dataframe\">\n",
       "  <thead>\n",
       "    <tr style=\"text-align: right;\">\n",
       "      <th></th>\n",
       "      <th>count</th>\n",
       "      <th>mean</th>\n",
       "      <th>std</th>\n",
       "      <th>min</th>\n",
       "      <th>25%</th>\n",
       "      <th>50%</th>\n",
       "      <th>75%</th>\n",
       "      <th>max</th>\n",
       "    </tr>\n",
       "  </thead>\n",
       "  <tbody>\n",
       "    <tr>\n",
       "      <td>LAT</td>\n",
       "      <td>4404.0</td>\n",
       "      <td>40.488300</td>\n",
       "      <td>2.124764e-12</td>\n",
       "      <td>40.4883</td>\n",
       "      <td>40.4883</td>\n",
       "      <td>40.4883</td>\n",
       "      <td>40.4883</td>\n",
       "      <td>40.4883</td>\n",
       "    </tr>\n",
       "    <tr>\n",
       "      <td>LON</td>\n",
       "      <td>4404.0</td>\n",
       "      <td>-106.823300</td>\n",
       "      <td>7.603671e-12</td>\n",
       "      <td>-106.8233</td>\n",
       "      <td>-106.8233</td>\n",
       "      <td>-106.8233</td>\n",
       "      <td>-106.8233</td>\n",
       "      <td>-106.8233</td>\n",
       "    </tr>\n",
       "    <tr>\n",
       "      <td>ELEV</td>\n",
       "      <td>4404.0</td>\n",
       "      <td>2092.800000</td>\n",
       "      <td>5.275668e-11</td>\n",
       "      <td>2092.8000</td>\n",
       "      <td>2092.8000</td>\n",
       "      <td>2092.8000</td>\n",
       "      <td>2092.8000</td>\n",
       "      <td>2092.8000</td>\n",
       "    </tr>\n",
       "    <tr>\n",
       "      <td>DATE</td>\n",
       "      <td>4404.0</td>\n",
       "      <td>729366.509083</td>\n",
       "      <td>4.043774e+03</td>\n",
       "      <td>722817.0000</td>\n",
       "      <td>725911.5000</td>\n",
       "      <td>729137.0000</td>\n",
       "      <td>732766.5000</td>\n",
       "      <td>737331.0000</td>\n",
       "    </tr>\n",
       "    <tr>\n",
       "      <td>PRCP1</td>\n",
       "      <td>4404.0</td>\n",
       "      <td>18.250000</td>\n",
       "      <td>3.650184e+01</td>\n",
       "      <td>0.0000</td>\n",
       "      <td>0.0000</td>\n",
       "      <td>0.0000</td>\n",
       "      <td>18.0000</td>\n",
       "      <td>221.0000</td>\n",
       "    </tr>\n",
       "    <tr>\n",
       "      <td>TMAX1</td>\n",
       "      <td>4404.0</td>\n",
       "      <td>118.477066</td>\n",
       "      <td>1.190937e+02</td>\n",
       "      <td>-200.0000</td>\n",
       "      <td>17.0000</td>\n",
       "      <td>100.0000</td>\n",
       "      <td>228.0000</td>\n",
       "      <td>317.0000</td>\n",
       "    </tr>\n",
       "    <tr>\n",
       "      <td>TMIN1</td>\n",
       "      <td>4404.0</td>\n",
       "      <td>-51.465259</td>\n",
       "      <td>9.203728e+01</td>\n",
       "      <td>-422.0000</td>\n",
       "      <td>-111.0000</td>\n",
       "      <td>-39.0000</td>\n",
       "      <td>22.0000</td>\n",
       "      <td>139.0000</td>\n",
       "    </tr>\n",
       "    <tr>\n",
       "      <td>SNOW1</td>\n",
       "      <td>4404.0</td>\n",
       "      <td>16.815849</td>\n",
       "      <td>4.368446e+01</td>\n",
       "      <td>0.0000</td>\n",
       "      <td>0.0000</td>\n",
       "      <td>0.0000</td>\n",
       "      <td>0.0000</td>\n",
       "      <td>462.0000</td>\n",
       "    </tr>\n",
       "    <tr>\n",
       "      <td>SNOWD1</td>\n",
       "      <td>4404.0</td>\n",
       "      <td>195.880563</td>\n",
       "      <td>2.887479e+02</td>\n",
       "      <td>0.0000</td>\n",
       "      <td>0.0000</td>\n",
       "      <td>0.0000</td>\n",
       "      <td>356.0000</td>\n",
       "      <td>1448.0000</td>\n",
       "    </tr>\n",
       "    <tr>\n",
       "      <td>TMAX2</td>\n",
       "      <td>4404.0</td>\n",
       "      <td>118.221617</td>\n",
       "      <td>1.191800e+02</td>\n",
       "      <td>-200.0000</td>\n",
       "      <td>17.0000</td>\n",
       "      <td>100.0000</td>\n",
       "      <td>228.0000</td>\n",
       "      <td>317.0000</td>\n",
       "    </tr>\n",
       "    <tr>\n",
       "      <td>TMIN2</td>\n",
       "      <td>4404.0</td>\n",
       "      <td>-51.546322</td>\n",
       "      <td>9.196747e+01</td>\n",
       "      <td>-422.0000</td>\n",
       "      <td>-111.0000</td>\n",
       "      <td>-39.0000</td>\n",
       "      <td>22.0000</td>\n",
       "      <td>139.0000</td>\n",
       "    </tr>\n",
       "    <tr>\n",
       "      <td>SNOW2</td>\n",
       "      <td>4404.0</td>\n",
       "      <td>17.023161</td>\n",
       "      <td>4.438320e+01</td>\n",
       "      <td>0.0000</td>\n",
       "      <td>0.0000</td>\n",
       "      <td>0.0000</td>\n",
       "      <td>0.0000</td>\n",
       "      <td>462.0000</td>\n",
       "    </tr>\n",
       "    <tr>\n",
       "      <td>SNOWD2</td>\n",
       "      <td>4404.0</td>\n",
       "      <td>195.885786</td>\n",
       "      <td>2.893087e+02</td>\n",
       "      <td>0.0000</td>\n",
       "      <td>0.0000</td>\n",
       "      <td>0.0000</td>\n",
       "      <td>356.0000</td>\n",
       "      <td>1448.0000</td>\n",
       "    </tr>\n",
       "  </tbody>\n",
       "</table>\n",
       "</div>"
      ],
      "text/plain": [
       "         count           mean           std          min          25%  \\\n",
       "LAT     4404.0      40.488300  2.124764e-12      40.4883      40.4883   \n",
       "LON     4404.0    -106.823300  7.603671e-12    -106.8233    -106.8233   \n",
       "ELEV    4404.0    2092.800000  5.275668e-11    2092.8000    2092.8000   \n",
       "DATE    4404.0  729366.509083  4.043774e+03  722817.0000  725911.5000   \n",
       "PRCP1   4404.0      18.250000  3.650184e+01       0.0000       0.0000   \n",
       "TMAX1   4404.0     118.477066  1.190937e+02    -200.0000      17.0000   \n",
       "TMIN1   4404.0     -51.465259  9.203728e+01    -422.0000    -111.0000   \n",
       "SNOW1   4404.0      16.815849  4.368446e+01       0.0000       0.0000   \n",
       "SNOWD1  4404.0     195.880563  2.887479e+02       0.0000       0.0000   \n",
       "TMAX2   4404.0     118.221617  1.191800e+02    -200.0000      17.0000   \n",
       "TMIN2   4404.0     -51.546322  9.196747e+01    -422.0000    -111.0000   \n",
       "SNOW2   4404.0      17.023161  4.438320e+01       0.0000       0.0000   \n",
       "SNOWD2  4404.0     195.885786  2.893087e+02       0.0000       0.0000   \n",
       "\n",
       "                50%          75%          max  \n",
       "LAT         40.4883      40.4883      40.4883  \n",
       "LON       -106.8233    -106.8233    -106.8233  \n",
       "ELEV      2092.8000    2092.8000    2092.8000  \n",
       "DATE    729137.0000  732766.5000  737331.0000  \n",
       "PRCP1        0.0000      18.0000     221.0000  \n",
       "TMAX1      100.0000     228.0000     317.0000  \n",
       "TMIN1      -39.0000      22.0000     139.0000  \n",
       "SNOW1        0.0000       0.0000     462.0000  \n",
       "SNOWD1       0.0000     356.0000    1448.0000  \n",
       "TMAX2      100.0000     228.0000     317.0000  \n",
       "TMIN2      -39.0000      22.0000     139.0000  \n",
       "SNOW2        0.0000       0.0000     462.0000  \n",
       "SNOWD2       0.0000     356.0000    1448.0000  "
      ]
     },
     "execution_count": 27,
     "metadata": {},
     "output_type": "execute_result"
    }
   ],
   "source": [
    "train_stats = X_train.describe()\n",
    "train_stats = train_stats.transpose()\n",
    "train_stats"
   ]
  },
  {
   "cell_type": "code",
   "execution_count": 28,
   "metadata": {},
   "outputs": [],
   "source": [
    "def norm(x):\n",
    "    return (x - train_stats['mean']) / train_stats['std']\n",
    "\n",
    "normed_train_data = norm(X_train)\n",
    "normed_test_data = norm(X_test)"
   ]
  },
  {
   "cell_type": "code",
   "execution_count": 80,
   "metadata": {},
   "outputs": [],
   "source": [
    "def build_model():\n",
    "    model = keras.Sequential([\n",
    "        keras.layers.Dense(128, activation='relu'),\n",
    "        keras.layers.Dropout(0.2),\n",
    "        keras.layers.Dense(64, activation='relu'),\n",
    "        keras.layers.Dense(len(map_dict), activation='softmax')\n",
    "    ])\n",
    "    optimizer = tf.keras.optimizers.RMSprop(0.001)\n",
    "\n",
    "    model.compile(optimizer='adam',\n",
    "                  loss='sparse_categorical_crossentropy',\n",
    "                  metrics=['accuracy'])\n",
    "    return model"
   ]
  },
  {
   "cell_type": "code",
   "execution_count": 81,
   "metadata": {},
   "outputs": [
    {
     "data": {
      "text/plain": [
       "18"
      ]
     },
     "execution_count": 81,
     "metadata": {},
     "output_type": "execute_result"
    }
   ],
   "source": [
    "len(y_train.unique())"
   ]
  },
  {
   "cell_type": "code",
   "execution_count": 83,
   "metadata": {},
   "outputs": [
    {
     "name": "stdout",
     "output_type": "stream",
     "text": [
      "\n",
      "Epoch: 0, accuracy:0.6372,  loss:1.4360,  val_accuracy:0.6504,  val_loss:1.1335,  \n",
      "....................................................................................................\n",
      "Epoch: 100, accuracy:0.9886,  loss:0.0462,  val_accuracy:0.9841,  val_loss:0.1843,  \n",
      "....................................................................................................\n",
      "Epoch: 200, accuracy:0.9935,  loss:0.0232,  val_accuracy:0.9818,  val_loss:0.2163,  \n",
      "....................................................................................................\n",
      "Epoch: 300, accuracy:0.9960,  loss:0.0157,  val_accuracy:0.9807,  val_loss:0.2689,  \n",
      "....................................................................................................\n",
      "Epoch: 400, accuracy:0.9963,  loss:0.0130,  val_accuracy:0.9784,  val_loss:0.3159,  \n",
      "....................................................................................................\n",
      "Epoch: 500, accuracy:0.9997,  loss:0.0035,  val_accuracy:0.9796,  val_loss:0.3216,  \n",
      "....................................................................................................\n",
      "Epoch: 600, accuracy:0.9986,  loss:0.0052,  val_accuracy:0.9796,  val_loss:0.3470,  \n",
      "....................................................................................................\n",
      "Epoch: 700, accuracy:0.9977,  loss:0.0072,  val_accuracy:0.9796,  val_loss:0.3450,  \n",
      "....................................................................................................\n",
      "Epoch: 800, accuracy:0.9983,  loss:0.0062,  val_accuracy:0.9807,  val_loss:0.3787,  \n",
      "....................................................................................................\n",
      "Epoch: 900, accuracy:0.9983,  loss:0.0048,  val_accuracy:0.9784,  val_loss:0.4313,  \n",
      "...................................................................................................."
     ]
    }
   ],
   "source": [
    "model = build_model()\n",
    "\n",
    "EPOCHS = 1000\n",
    "\n",
    "history = model.fit(normed_train_data.values, y_train.values,\n",
    "  epochs=EPOCHS, validation_split = 0.2, verbose=0,\n",
    "  callbacks=[tfdocs.modeling.EpochDots()])"
   ]
  },
  {
   "cell_type": "code",
   "execution_count": 76,
   "metadata": {},
   "outputs": [
    {
     "name": "stdout",
     "output_type": "stream",
     "text": [
      "1102/1 - 0s - loss: 367486.4286 - accuracy: 0.0181\n"
     ]
    }
   ],
   "source": [
    "test_loss, test_acc = model.evaluate(X_test.values,  y_test.values, verbose=2)"
   ]
  },
  {
   "cell_type": "code",
   "execution_count": 77,
   "metadata": {},
   "outputs": [
    {
     "name": "stdout",
     "output_type": "stream",
     "text": [
      "WARNING:tensorflow:Falling back from v2 loop because of error: Failed to find data adapter that can handle input: <class 'pandas.core.frame.DataFrame'>, <class 'NoneType'>\n"
     ]
    }
   ],
   "source": [
    "predictions = model.predict(X_test)\n",
    "# tf.math.confusion_matrix(\n",
    "#     y_test,\n",
    "#     predictions,\n",
    "#     num_classes=None,\n",
    "#     weights=None,\n",
    "#     dtype=tf.dtypes.int32,\n",
    "#     name=None\n",
    "# )"
   ]
  },
  {
   "cell_type": "code",
   "execution_count": 69,
   "metadata": {},
   "outputs": [
    {
     "data": {
      "text/plain": [
       "array([14,  5,  0, ...,  0, 17,  0], dtype=int8)"
      ]
     },
     "execution_count": 69,
     "metadata": {},
     "output_type": "execute_result"
    }
   ],
   "source": [
    "y_test.values"
   ]
  },
  {
   "cell_type": "code",
   "execution_count": 79,
   "metadata": {},
   "outputs": [
    {
     "name": "stdout",
     "output_type": "stream",
     "text": [
      "WARNING:tensorflow:Falling back from v2 loop because of error: Failed to find data adapter that can handle input: <class 'pandas.core.frame.DataFrame'>, <class 'NoneType'>\n"
     ]
    },
    {
     "data": {
      "text/plain": [
       "array([0., 0., 0., 1., 0., 0., 0., 0., 0., 0., 0., 0., 0., 0., 0., 0., 0.,\n",
       "       0.], dtype=float32)"
      ]
     },
     "execution_count": 79,
     "metadata": {},
     "output_type": "execute_result"
    }
   ],
   "source": [
    "model.predict(X_test)[0]"
   ]
  },
  {
   "cell_type": "code",
   "execution_count": null,
   "metadata": {},
   "outputs": [],
   "source": []
  }
 ],
 "metadata": {
  "kernelspec": {
   "display_name": "Python 3",
   "language": "python",
   "name": "python3"
  },
  "language_info": {
   "codemirror_mode": {
    "name": "ipython",
    "version": 3
   },
   "file_extension": ".py",
   "mimetype": "text/x-python",
   "name": "python",
   "nbconvert_exporter": "python",
   "pygments_lexer": "ipython3",
   "version": "3.7.3"
  }
 },
 "nbformat": 4,
 "nbformat_minor": 4
}
